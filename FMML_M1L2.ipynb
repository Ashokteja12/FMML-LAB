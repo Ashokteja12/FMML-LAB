{
  "cells": [
    {
      "cell_type": "markdown",
      "metadata": {
        "id": "view-in-github",
        "colab_type": "text"
      },
      "source": [
        "<a href=\"https://colab.research.google.com/github/Ashokteja12/FMML-LAB/blob/main/FMML_M1L2.ipynb\" target=\"_parent\"><img src=\"https://colab.research.google.com/assets/colab-badge.svg\" alt=\"Open In Colab\"/></a>"
      ]
    },
    {
      "cell_type": "markdown",
      "metadata": {
        "id": "3Eu9VZbF01eq"
      },
      "source": [
        "# Machine Learning terms and metrics\n",
        "\n",
        "FMML Module 1, Lab 2\n",
        "\n",
        "In this lab, we will show a part of the ML pipeline by using the California Housing dataset. There are 20640 samples, each with 8 attributes like income of the block, age of the houses per district etc. The task is to predict the cost of the houses per district. We will use the scikit-learn library to load the data and perform some basic data preprocessing and model training. We will also show how to evaluate the model using some common metrics, split the data into training and testing sets, and use cross-validation to get a better estimate of the model's performance."
      ]
    },
    {
      "cell_type": "code",
      "execution_count": 31,
      "metadata": {
        "id": "8qBvyEem0vLi"
      },
      "outputs": [],
      "source": [
        "import numpy as np\n",
        "from sklearn import datasets\n",
        "import matplotlib.pyplot as plt\n",
        "\n",
        "rng = np.random.default_rng(seed=42)"
      ]
    },
    {
      "cell_type": "code",
      "execution_count": 32,
      "metadata": {
        "colab": {
          "base_uri": "https://localhost:8080/"
        },
        "id": "8LpqjN991GGJ",
        "outputId": "3d3f5a20-3a0d-4a72-e5f1-86aad2e2bfa0"
      },
      "outputs": [
        {
          "output_type": "stream",
          "name": "stdout",
          "text": [
            ".. _california_housing_dataset:\n",
            "\n",
            "California Housing dataset\n",
            "--------------------------\n",
            "\n",
            "**Data Set Characteristics:**\n",
            "\n",
            ":Number of Instances: 20640\n",
            "\n",
            ":Number of Attributes: 8 numeric, predictive attributes and the target\n",
            "\n",
            ":Attribute Information:\n",
            "    - MedInc        median income in block group\n",
            "    - HouseAge      median house age in block group\n",
            "    - AveRooms      average number of rooms per household\n",
            "    - AveBedrms     average number of bedrooms per household\n",
            "    - Population    block group population\n",
            "    - AveOccup      average number of household members\n",
            "    - Latitude      block group latitude\n",
            "    - Longitude     block group longitude\n",
            "\n",
            ":Missing Attribute Values: None\n",
            "\n",
            "This dataset was obtained from the StatLib repository.\n",
            "https://www.dcc.fc.up.pt/~ltorgo/Regression/cal_housing.html\n",
            "\n",
            "The target variable is the median house value for California districts,\n",
            "expressed in hundreds of thousands of dollars ($100,000).\n",
            "\n",
            "This dataset was derived from the 1990 U.S. census, using one row per census\n",
            "block group. A block group is the smallest geographical unit for which the U.S.\n",
            "Census Bureau publishes sample data (a block group typically has a population\n",
            "of 600 to 3,000 people).\n",
            "\n",
            "A household is a group of people residing within a home. Since the average\n",
            "number of rooms and bedrooms in this dataset are provided per household, these\n",
            "columns may take surprisingly large values for block groups with few households\n",
            "and many empty houses, such as vacation resorts.\n",
            "\n",
            "It can be downloaded/loaded using the\n",
            ":func:`sklearn.datasets.fetch_california_housing` function.\n",
            "\n",
            ".. rubric:: References\n",
            "\n",
            "- Pace, R. Kelley and Ronald Barry, Sparse Spatial Autoregressions,\n",
            "  Statistics and Probability Letters, 33 (1997) 291-297\n",
            "\n"
          ]
        }
      ],
      "source": [
        "dataset = datasets.fetch_california_housing()\n",
        "# Dataset description\n",
        "print(dataset.DESCR)"
      ]
    },
    {
      "cell_type": "markdown",
      "metadata": {
        "id": "PCe1VNftevgE"
      },
      "source": [
        "Given below are the list of target values. These correspond to the house value derived considering all the 8 input features and are continuous values. We should use regression models to predict these values but we will start with a simple classification model for the sake of simplicity. We need to just round off the values to the nearest integer and use a classification model to predict the house value."
      ]
    },
    {
      "cell_type": "code",
      "execution_count": 33,
      "metadata": {
        "colab": {
          "base_uri": "https://localhost:8080/"
        },
        "id": "F8K0ggBOevgE",
        "outputId": "65803a7c-461e-4f09-db75-77f5f430b622"
      },
      "outputs": [
        {
          "output_type": "stream",
          "name": "stdout",
          "text": [
            "Orignal target values: [4.526 3.585 3.521 ... 0.923 0.847 0.894]\n",
            "Target values after conversion: [4 3 3 ... 0 0 0]\n",
            "Input variables shape: (20640, 8)\n",
            "Output variables shape: (20640,)\n"
          ]
        }
      ],
      "source": [
        "print(\"Orignal target values:\", dataset.target)\n",
        "\n",
        "dataset.target = dataset.target.astype(int)\n",
        "\n",
        "print(\"Target values after conversion:\", dataset.target)\n",
        "print(\"Input variables shape:\", dataset.data.shape)\n",
        "print(\"Output variables shape:\", dataset.target.shape)"
      ]
    },
    {
      "cell_type": "markdown",
      "metadata": {
        "id": "iNx4174W5xRg"
      },
      "source": [
        "The simplest model to use for classification is the K-Nearest Neighbors model. We will use this model to predict the house value with a K value of 1. We will also use the accuracy metric to evaluate the model."
      ]
    },
    {
      "cell_type": "code",
      "execution_count": 34,
      "metadata": {
        "id": "07zpydQj1hIQ"
      },
      "outputs": [],
      "source": [
        "def NN1(traindata, trainlabel, query):\n",
        "    \"\"\"\n",
        "    This function takes in the training data, training labels and a query point\n",
        "    and returns the predicted label for the query point using the nearest neighbour algorithm\n",
        "\n",
        "    traindata: numpy array of shape (n,d) where n is the number of samples and d is the number of features\n",
        "    trainlabel: numpy array of shape (n,) where n is the number of samples\n",
        "    query: numpy array of shape (d,) where d is the number of features\n",
        "\n",
        "    returns: the predicted label for the query point which is the label of the training data which is closest to the query point\n",
        "    \"\"\"\n",
        "    diff = (\n",
        "        traindata - query\n",
        "    )  # find the difference between features. Numpy automatically takes care of the size here\n",
        "    sq = diff * diff  # square the differences\n",
        "    dist = sq.sum(1)  # add up the squares\n",
        "    label = trainlabel[np.argmin(dist)]\n",
        "    return label\n",
        "\n",
        "\n",
        "def NN(traindata, trainlabel, testdata):\n",
        "    \"\"\"\n",
        "    This function takes in the training data, training labels and test data\n",
        "    and returns the predicted labels for the test data using the nearest neighbour algorithm\n",
        "\n",
        "    traindata: numpy array of shape (n,d) where n is the number of samples and d is the number of features\n",
        "    trainlabel: numpy array of shape (n,) where n is the number of samples\n",
        "    testdata: numpy array of shape (m,d) where m is the number of test samples and d is the number of features\n",
        "\n",
        "    returns: the predicted labels for the test data which is the label of the training data which is closest to each test point\n",
        "    \"\"\"\n",
        "    predlabel = np.array([NN1(traindata, trainlabel, i) for i in testdata])\n",
        "    return predlabel"
      ]
    },
    {
      "cell_type": "markdown",
      "metadata": {
        "id": "03JktkfIGaje"
      },
      "source": [
        "We will also define a 'random classifier', which randomly allots labels to each sample"
      ]
    },
    {
      "cell_type": "code",
      "execution_count": 35,
      "metadata": {
        "id": "fogWAtjyGhAH"
      },
      "outputs": [],
      "source": [
        "def RandomClassifier(traindata, trainlabel, testdata):\n",
        "    \"\"\"\n",
        "    This function takes in the training data, training labels and test data\n",
        "    and returns the predicted labels for the test data using the random classifier algorithm\n",
        "\n",
        "    In reality, we don't need these arguments but we are passing them to keep the function signature consistent with other classifiers\n",
        "\n",
        "    traindata: numpy array of shape (n,d) where n is the number of samples and d is the number of features\n",
        "    trainlabel: numpy array of shape (n,) where n is the number of samples\n",
        "    testdata: numpy array of shape (m,d) where m is the number of test samples and d is the number of features\n",
        "\n",
        "    returns: the predicted labels for the test data which is a random label from the training data\n",
        "    \"\"\"\n",
        "\n",
        "    classes = np.unique(trainlabel)\n",
        "    rints = rng.integers(low=0, high=len(classes), size=len(testdata))\n",
        "    predlabel = classes[rints]\n",
        "    return predlabel"
      ]
    },
    {
      "cell_type": "markdown",
      "metadata": {
        "id": "1Hjf1KHs7fU5"
      },
      "source": [
        "We need a metric to evaluate the performance of the model. Let us define a metric 'Accuracy' to see how good our learning algorithm is. Accuracy is the ratio of the number of correctly classified samples to the total number of samples. The higher the accuracy, the better the algorithm. We will use the accuracy metric to evaluate and compate the performance of the K-Nearest Neighbors model and the random classifier."
      ]
    },
    {
      "cell_type": "code",
      "execution_count": 36,
      "metadata": {
        "id": "ouuCqWU07bz-"
      },
      "outputs": [],
      "source": [
        "def Accuracy(gtlabel, predlabel):\n",
        "    \"\"\"\n",
        "    This function takes in the ground-truth labels and predicted labels\n",
        "    and returns the accuracy of the classifier\n",
        "\n",
        "    gtlabel: numpy array of shape (n,) where n is the number of samples\n",
        "    predlabel: numpy array of shape (n,) where n is the number of samples\n",
        "\n",
        "    returns: the accuracy of the classifier which is the number of correct predictions divided by the total number of predictions\n",
        "    \"\"\"\n",
        "    assert len(gtlabel) == len(\n",
        "        predlabel\n",
        "    ), \"Length of the ground-truth labels and predicted labels should be the same\"\n",
        "    correct = (\n",
        "        gtlabel == predlabel\n",
        "    ).sum()  # count the number of times the groundtruth label is equal to the predicted label.\n",
        "    return correct / len(gtlabel)"
      ]
    },
    {
      "cell_type": "markdown",
      "metadata": {
        "id": "4vJFwBFa9Klw"
      },
      "source": [
        "Let us make a function to split the dataset with the desired probability. We will use this function to split the dataset into training and testing sets. We will use the training set to train the model and the testing set to evaluate the model."
      ]
    },
    {
      "cell_type": "code",
      "execution_count": 37,
      "metadata": {
        "id": "Ko0VzpSM2Tdi"
      },
      "outputs": [],
      "source": [
        "def split(data, label, percent):\n",
        "    # generate a random number for each sample\n",
        "    rnd = rng.random(len(label))\n",
        "    split1 = rnd < percent\n",
        "    split2 = rnd >= percent\n",
        "\n",
        "    split1data = data[split1, :]\n",
        "    split1label = label[split1]\n",
        "    split2data = data[split2, :]\n",
        "    split2label = label[split2]\n",
        "    return split1data, split1label, split2data, split2label"
      ]
    },
    {
      "cell_type": "markdown",
      "metadata": {
        "id": "AcK3LEAJ_LGC"
      },
      "source": [
        "We will reserve 20% of our dataset as the test set. We will not change this portion throughout our experiments"
      ]
    },
    {
      "cell_type": "code",
      "execution_count": 38,
      "metadata": {
        "colab": {
          "base_uri": "https://localhost:8080/"
        },
        "id": "bBZkHBLJ1iU-",
        "outputId": "c8ca0f72-6447-43e4-c8a7-e2c54705be70"
      },
      "outputs": [
        {
          "output_type": "stream",
          "name": "stdout",
          "text": [
            "Number of test samples: 4144\n",
            "Number of train samples: 16496\n",
            "Percent of test data: 20.07751937984496 %\n"
          ]
        }
      ],
      "source": [
        "testdata, testlabel, alltraindata, alltrainlabel = split(\n",
        "    dataset.data, dataset.target, 20 / 100\n",
        ")\n",
        "print(\"Number of test samples:\", len(testlabel))\n",
        "print(\"Number of train samples:\", len(alltrainlabel))\n",
        "print(\"Percent of test data:\", len(testlabel) * 100 / len(dataset.target), \"%\")"
      ]
    },
    {
      "cell_type": "markdown",
      "metadata": {
        "id": "a6Ss0Z6IAGNV"
      },
      "source": [
        "## Experiments with splits\n",
        "\n",
        "Let us reserve some of our train data as a validation set"
      ]
    },
    {
      "cell_type": "code",
      "execution_count": 39,
      "metadata": {
        "id": "WFew2iry_7W7"
      },
      "outputs": [],
      "source": [
        "traindata, trainlabel, valdata, vallabel = split(\n",
        "    alltraindata, alltrainlabel, 75 / 100)"
      ]
    },
    {
      "cell_type": "markdown",
      "metadata": {
        "id": "60hiu4clFN1i"
      },
      "source": [
        "What is the accuracy of our classifiers on the train dataset?"
      ]
    },
    {
      "cell_type": "code",
      "execution_count": 40,
      "metadata": {
        "colab": {
          "base_uri": "https://localhost:8080/"
        },
        "id": "DBlZDTHUFTZx",
        "outputId": "103a6a6e-e55b-4dd6-de5f-b579d990c2ae"
      },
      "outputs": [
        {
          "output_type": "stream",
          "name": "stdout",
          "text": [
            "Training accuracy using nearest neighbour algorithm: 100.0 %\n",
            "Training accuracy using random classifier:  16.4375808538163 %\n"
          ]
        }
      ],
      "source": [
        "trainpred = NN(traindata, trainlabel, traindata)\n",
        "trainAccuracy = Accuracy(trainlabel, trainpred)\n",
        "print(\"Training accuracy using nearest neighbour algorithm:\", trainAccuracy*100, \"%\")\n",
        "\n",
        "trainpred = RandomClassifier(traindata, trainlabel, traindata)\n",
        "trainAccuracy = Accuracy(trainlabel, trainpred)\n",
        "print(\"Training accuracy using random classifier: \", trainAccuracy*100, \"%\")"
      ]
    },
    {
      "cell_type": "markdown",
      "metadata": {
        "id": "7h08-9gJDtSy"
      },
      "source": [
        "For nearest neighbour, the train accuracy is always 1. The accuracy of the random classifier is close to 1/(number of classes) which is 0.1666 in our case. This is because the random classifier randomly assigns a label to each sample and the probability of assigning the correct label is 1/(number of classes). Let us predict the labels for our validation set and get the accuracy. This accuracy is a good estimate of the accuracy of our model on unseen data."
      ]
    },
    {
      "cell_type": "code",
      "execution_count": 41,
      "metadata": {
        "colab": {
          "base_uri": "https://localhost:8080/"
        },
        "id": "4h7bXoW_2H3v",
        "outputId": "a6405d95-065a-43dd-e137-1797d334265b"
      },
      "outputs": [
        {
          "output_type": "stream",
          "name": "stdout",
          "text": [
            "Validation accuracy using nearest neighbour algorithm: 34.10852713178294 %\n",
            "Validation accuracy using random classifier: 16.884689922480618 %\n"
          ]
        }
      ],
      "source": [
        "valpred = NN(traindata, trainlabel, valdata)\n",
        "valAccuracy = Accuracy(vallabel, valpred)\n",
        "print(\"Validation accuracy using nearest neighbour algorithm:\", valAccuracy*100, \"%\")\n",
        "\n",
        "\n",
        "valpred = RandomClassifier(traindata, trainlabel, valdata)\n",
        "valAccuracy = Accuracy(vallabel, valpred)\n",
        "print(\"Validation accuracy using random classifier:\", valAccuracy*100, \"%\")"
      ]
    },
    {
      "cell_type": "markdown",
      "metadata": {
        "id": "py9bLguFEjfg"
      },
      "source": [
        "Validation accuracy of nearest neighbour is considerably less than its train accuracy while the validation accuracy of random classifier is the same. However, the validation accuracy of nearest neighbour is twice that of the random classifier. Now let us try another random split and check the validation accuracy. We will see that the validation accuracy changes with the split. This is because the validation set is small and the accuracy is highly dependent on the samples in the validation set. We can get a better estimate of the accuracy by using cross-validation."
      ]
    },
    {
      "cell_type": "code",
      "execution_count": 42,
      "metadata": {
        "colab": {
          "base_uri": "https://localhost:8080/"
        },
        "id": "ujm3cyYzEntE",
        "outputId": "eb8628c4-322c-4dfa-c9ea-5090f6c7a02e"
      },
      "outputs": [
        {
          "output_type": "stream",
          "name": "stdout",
          "text": [
            "Validation accuracy using nearest neighbour algorithm: 34.048257372654156 %\n"
          ]
        }
      ],
      "source": [
        "traindata, trainlabel, valdata, vallabel = split(\n",
        "    alltraindata, alltrainlabel, 75 / 100)\n",
        "valpred = NN(traindata, trainlabel, valdata)\n",
        "valAccuracy = Accuracy(vallabel, valpred)\n",
        "print(\"Validation accuracy using nearest neighbour algorithm:\", valAccuracy*100, \"%\")"
      ]
    },
    {
      "cell_type": "markdown",
      "metadata": {
        "id": "oSOx7U83EKie"
      },
      "source": [
        "You can run the above cell multiple times to try with different random splits.\n",
        "We notice that the accuracy is different for each run, but close together.\n",
        "\n",
        "Now let us compare it with the accuracy we get on the test dataset."
      ]
    },
    {
      "cell_type": "code",
      "execution_count": 43,
      "metadata": {
        "colab": {
          "base_uri": "https://localhost:8080/"
        },
        "id": "PNEZ5ToYBEDW",
        "outputId": "d92f0255-d818-4f14-961c-1a310ba19f55"
      },
      "outputs": [
        {
          "output_type": "stream",
          "name": "stdout",
          "text": [
            "Test accuracy: 34.91795366795367 %\n"
          ]
        }
      ],
      "source": [
        "testpred = NN(alltraindata, alltrainlabel, testdata)\n",
        "testAccuracy = Accuracy(testlabel, testpred)\n",
        "\n",
        "print(\"Test accuracy:\", testAccuracy*100, \"%\")"
      ]
    },
    {
      "cell_type": "markdown",
      "metadata": {
        "id": "w3dGD531K3gH"
      },
      "source": [
        "### Try it out for yourself and answer:\n",
        "1. How is the accuracy of the validation set affected if we increase the percentage of validation set? What happens when we reduce it?\n",
        "2. How does the size of the train and validation set affect how well we can predict the accuracy on the test set using the validation set?\n",
        "3. What do you think is a good percentage to reserve for the validation set so that thest two factors are balanced?\n",
        "\n",
        "Answer for both nearest neighbour and random classifier. You can note down the values for your experiments and plot a graph using  <a href=https://matplotlib.org/stable/gallery/lines_bars_and_markers/step_demo.html#sphx-glr-gallery-lines-bars-and-markers-step-demo-py>plt.plot<href>. Check also for extreme values for splits, like 99.9% or 0.1%"
      ]
    },
    {
      "cell_type": "markdown",
      "metadata": {
        "id": "M9zvdYY6evgI"
      },
      "source": [
        "> Exercise: Try to implement a 3 nearest neighbour classifier and compare the accuracy of the 1 nearest neighbour classifier and the 3 nearest neighbour classifier on the test dataset. You can use the KNeighborsClassifier class from the scikit-learn library to implement the K-Nearest Neighbors model. You can set the number of neighbors using the n_neighbors parameter. You can also use the accuracy_score function from the scikit-learn library to calculate the accuracy of the model."
      ]
    },
    {
      "cell_type": "markdown",
      "metadata": {
        "id": "PnYvkAZLQY7h"
      },
      "source": [
        "## Multiple Splits\n",
        "\n",
        "One way to get more accurate estimates for the test accuracy is by using <b>cross-validation</b>. Here, we will try a simple version, where we do multiple train/val splits and take the average of validation accuracies as the test accuracy estimation. Here is a function for doing this. Note that this function will take a long time to execute. You can reduce the number of splits to make it faster."
      ]
    },
    {
      "cell_type": "code",
      "execution_count": 44,
      "metadata": {
        "id": "E4nGCUQXBTzo"
      },
      "outputs": [],
      "source": [
        "def AverageAccuracy(alldata, alllabel, splitpercent, iterations, classifier=NN):\n",
        "    \"\"\"\n",
        "    This function takes in the data, labels, split percentage, number of iterations and classifier function\n",
        "    and returns the average accuracy of the classifier\n",
        "\n",
        "    alldata: numpy array of shape (n,d) where n is the number of samples and d is the number of features\n",
        "    alllabel: numpy array of shape (n,) where n is the number of samples\n",
        "    splitpercent: float which is the percentage of data to be used for training\n",
        "    iterations: int which is the number of iterations to run the classifier\n",
        "    classifier: function which is the classifier function to be used\n",
        "\n",
        "    returns: the average accuracy of the classifier\n",
        "    \"\"\"\n",
        "    accuracy = 0\n",
        "    for ii in range(iterations):\n",
        "        traindata, trainlabel, valdata, vallabel = split(\n",
        "            alldata, alllabel, splitpercent\n",
        "        )\n",
        "        valpred = classifier(traindata, trainlabel, valdata)\n",
        "        accuracy += Accuracy(vallabel, valpred)\n",
        "    return accuracy / iterations  # average of all accuracies"
      ]
    },
    {
      "cell_type": "code",
      "execution_count": 45,
      "metadata": {
        "colab": {
          "base_uri": "https://localhost:8080/"
        },
        "id": "H3qtNar7Bbik",
        "outputId": "8702c884-f8d6-40bf-c727-a97d2defa18b"
      },
      "outputs": [
        {
          "output_type": "stream",
          "name": "stdout",
          "text": [
            "Average validation accuracy: 33.58463539517022 %\n",
            "Test accuracy: 34.91795366795367 %\n"
          ]
        }
      ],
      "source": [
        "avg_acc = AverageAccuracy(alltraindata, alltrainlabel, 75 / 100, 10, classifier=NN)\n",
        "print(\"Average validation accuracy:\", avg_acc*100, \"%\")\n",
        "testpred = NN(alltraindata, alltrainlabel, testdata)\n",
        "\n",
        "print(\"Test accuracy:\", Accuracy(testlabel, testpred)*100, \"%\")"
      ]
    },
    {
      "cell_type": "markdown",
      "source": [
        "# **#1. Does averaging the validation accuracy across multiple splits give more consistent results?**\n",
        "\n",
        "Averaging the validation accuracy across multiple splits can indeed provide more consistent results, but it depends on the specific context and goals of your experiment. Here's a breakdown of the pros and cons:\n",
        "\n",
        "**Pros:**\n",
        "\n",
        "* Reduced variance: Making them more stable and less prone to fluctuations.\n",
        "* Improved robustness: The impact of outliers or noisy data, leading to more robust results.\n",
        "* Better estimate of model performance: Averaging validation accuracy can provide a more accurate estimate of the model's performance on unseen data, as it takes into account the variability of the data and the model's performance across different splits.\n",
        "\n",
        "**Cons:**\n",
        "\n",
        "* Increased computational cost: Computing validation accuracy across computationally expensive, especially for large datasets or complex models.\n",
        "* Over-smoothing: Averaging validation accuracy can lead to over-smoothing, where the results become too smooth and lose important details about the model's performance.\n",
        "* Loss of information: By averaging across multiple splits, you may lose information about the model's performance on specific subsets of the data or specific scenarios.\n",
        "\n",
        "\n",
        "**When to use averaging:**\n",
        "\n",
        "* Hyperparameter tuning\n",
        "* Model selection\n",
        "* Robustness evaluation\n",
        "\n",
        "**When not to use averaging:**\n",
        "* Exploratory data analysis\n",
        "* Debugging\n",
        "* Interpretability\n"
      ],
      "metadata": {
        "id": "iuZTzYz_-V0h"
      }
    },
    {
      "cell_type": "markdown",
      "source": [
        "# **#2. Does it give more accurate estimate of test accuracy?**\n",
        "\n",
        "Averaging validation accuracy across multiple splits can provide a more accurate estimate of test accuracy, but it's not a guarantee. Here's a nuanced breakdown:\n",
        "\n",
        "**Why it might help:**\n",
        "\n",
        "* Reduced overfitting\n",
        "* Better representation of test data\n",
        "* More robust estimate\n",
        "\n",
        "**Why it might not help:**\n",
        "\n",
        "* Validation set bias\n",
        "* Model variability\n",
        "* Limited number of splits\n",
        "\n",
        "**When it's most effective:**\n",
        "\n",
        "* Large datasets:\n",
        "  \n",
        "  Averaging validation accuracy is more effective when working with large datasets, where the validation sets are more representative of the test data.\n",
        "* Simple models:\n",
        "  \n",
        "  Averaging validation accuracy is more effective when working with simple models, where the model's performance is less variable across different splits.\n",
        "* Well-designed splits:\n",
        "  \n",
        "  Averaging validation accuracy is more effective when the splits are designed to be representative of the test data, such as using stratified sampling or time-series splits.\n",
        "\n",
        "**When it's less effective:**\n",
        "\n",
        "* Small datasets:\n",
        "   \n",
        "   Averaging validation accuracy may not be effective when working with small datasets, where the validation sets may not be representative of the test data.\n",
        "* Complex models:\n",
        "  \n",
        "  Averaging validation accuracy may not be effective when working with complex models, where the model's performance can vary significantly across different splits.\n",
        "* Poorly designed splits:\n",
        "  \n",
        "  Averaging validation accuracy may not be effective when the splits are poorly designed, such as using random sampling without considering the data distribution.\n"
      ],
      "metadata": {
        "id": "gXXsIU52AXZ-"
      }
    },
    {
      "cell_type": "markdown",
      "source": [
        "# **#3. What is the effect of the number of iterations on the estimate? Do we get a better estimate with higher iterations?**\n",
        "\n",
        "The effect of the number of iterations on the estimate of test accuracy is a crucial aspect of cross-validation. Here's a detailed explanation:\n",
        "\n",
        "* **Law of Large Numbers:**\n",
        "\n",
        " As the number of iterations (or folds) increases, the estimate of test accuracy converges to the true population mean. This is due to the Law of Large Numbers, which states that the average of a large number of independent and identically distributed random variables will be close to the population mean.\n",
        "\n",
        "* **Reducing Variance:**\n",
        "  \n",
        "  With more iterations, the variance of the estimate decreases, making the estimate more stable and reliable. This is because the averaging effect of multiple iterations reduces the impact of individual outliers or noisy data points.\n",
        "\n",
        "* **Convergence to True Accuracy:**\n",
        "  \n",
        "  As the number of iterations increases, the estimate of test accuracy converges to the true accuracy of the model on unseen data. This means that with a large enough number of iterations, the estimate will be very close to the true test accuracy.\n",
        "\n",
        "* **Diminishing Returns:**\n",
        "\n",
        " While increasing the number of iterations generally improves the estimate, there are diminishing returns. Beyond a certain point, additional iterations may not significantly improve the estimate, but will increase computational resources and time.\n",
        "\n",
        "* **Optimal Number of Iterations:**\n",
        "\n",
        " The optimal number of iterations depends on the specific problem, dataset, and model architecture. A common rule of thumb is to use 5-10 folds for most problems, but this can vary depending on the complexity of the data and the model.\n",
        "\n",
        "* **Trade-off between Computational Resources and Accuracy:**\n",
        "\n",
        " Increasing the number of iterations comes at the cost of increased computational resources and time. Therefore, it's essential to balance the need for accuracy with the available resources.\n",
        "\n"
      ],
      "metadata": {
        "id": "Jj32o6DpGPvz"
      }
    },
    {
      "cell_type": "markdown",
      "source": [],
      "metadata": {
        "id": "nnjHk0TPcmoq"
      }
    },
    {
      "cell_type": "markdown",
      "source": [
        "This is a very simple way of doing cross-validation. There are many well-known algorithms for cross-validation, like k-fold cross-validation, leave-one-out etc. This will be covered in detail in a later module. For more information about cross-validation, check Cross-validatioin (Wikipedia)"
      ],
      "metadata": {
        "id": "e7P7HprRJkOq"
      }
    },
    {
      "cell_type": "markdown",
      "source": [
        "# **#4. Consider the results you got for the previous questions. Can we deal with a very small train dataset or validation dataset by increasing the iterations?**\n",
        "\n",
        "While increasing the number of iterations can help improve the estimate of test accuracy, it's not a silver bullet for dealing with very small train or validation datasets.\n",
        "\n",
        "**Small Train Dataset**:\n",
        "\n",
        "* Increasing iterations can help reduce overfitting by averaging out the noise in the data, but it won't create new information that's not present in the small dataset.\n",
        "* If the train dataset is too small, the model may not have enough information to learn from, and increasing iterations won't compensate for the lack of data.\n",
        "* In this case, it's better to focus on collecting more data or using techniques like data augmentation, transfer learning, or semi-supervised learning to make the most of the available data.\n",
        "\n",
        "**Small Validation Dataset:**\n",
        "\n",
        "* Increasing iterations can help reduce the variance of the estimate, but it won't increase the representativeness of the validation set.\n",
        "* If the validation dataset is too small, it may not be representative of the true population, and increasing iterations won't fix this issue.\n",
        "* In this case, it's better to focus on collecting more data for the validation set or using techniques like bootstrapping or cross-validation with stratification to ensure the validation set is representative.\n",
        "\n",
        "**When Increasing Iterations Can Help:**\n",
        "\n",
        "* If the dataset is small but still representative of the population, increasing iterations can help reduce the variance of the estimate and provide a more stable estimate of test accuracy.\n",
        "* If the model is simple and has a low capacity, increasing iterations can help improve the estimate of test accuracy by reducing overfitting."
      ],
      "metadata": {
        "id": "Py93MbaLI1ey"
      }
    },
    {
      "cell_type": "markdown",
      "source": [
        "Answer1Yes, averaging the validation accuracy across multiple splits can provide more consistent results.\n",
        "\n",
        "\n",
        "Benefits:\n",
        "\n",
        "\n",
        "1. Reduces variability: Averages out fluctuations in validation accuracy due to random splitting.\n",
        "2. Improves reliability: Provides a more robust estimate of model performance.\n",
        "3. Increases generalizability: Averaging across multiple splits helps capture the model's performance across different subsets of data.\n",
        "\n",
        "\n",
        "Techniques for averaging validation accuracy:\n",
        "\n",
        "\n",
        "1. K-Fold Cross-Validation (CV): Divide data into k folds, train on k-1 folds, evaluate on the remaining fold.\n",
        "2. Monte Carlo Cross-Validation (MCCV): Randomly split data into training and validation sets, repeat multiple times.\n",
        "3. Bootstrap Sampling: Resample training data with replacement, evaluate on out-of-bag samples.\n",
        "\n",
        "\n",
        "Implementation:\n",
        "\n",
        "\n",
        "```\n",
        "from sklearn.model_selection import KFold, StratifiedKFold\n",
        "from sklearn.metrics import accuracy_score\n",
        "\n",
        "# K-Fold CV\n",
        "kf = KFold(n_splits=5, shuffle=True, random_state=42)\n",
        "accuracies = []\n",
        "for train_idx, val_idx in kf.split(X):\n",
        "    X_train, X_val = X[train_idx], X[val_idx]\n",
        "    y_train, y_val = y[train_idx], y[val_idx]\n",
        "    model.fit(X_train, y_train)\n",
        "    y_pred = model.predict(X_val)\n",
        "    accuracy = accuracy_score(y_val, y_pred)\n",
        "    accuracies.append(accuracy)\n",
        "\n",
        "avg_accuracy = np.mean(accuracies)\n",
        "print(\"Average Validation Accuracy:\", avg_accuracy)\n",
        "```\n",
        "\n",
        "\n",
        "Best practices:\n",
        "\n",
        "\n",
        "1. Choose appropriate k for K-Fold CV (e.g., 5-10).\n",
        "2. Use StratifiedKFold for imbalanced datasets.\n",
        "3. Repeat MCCV multiple times to reduce variability.\n",
        "4. Consider using techniques like bagging or ensemble methods.\n",
        "\n",
        "\n",
        "By averaging validation accuracy across multiple splits, you can increase the reliability of your model's performance estimates.\n",
        "\n",
        "\n",
        "Would you like me to elaborate on cross-validation or model evaluation?"
      ],
      "metadata": {
        "id": "d4S5EjBrcqZT"
      }
    },
    {
      "cell_type": "markdown",
      "source": [
        "Answer2Averaging validation accuracy across multiple splits can provide a more accurate estimate of test accuracy, but it depends on several factors.\n",
        "\n",
        "\n",
        "Factors influencing accuracy estimation:\n",
        "\n",
        "\n",
        "1. Data size and complexity\n",
        "2. Model complexity and capacity\n",
        "3. Splitting strategy (K-Fold, MCCV, etc.)\n",
        "4. Number of splits (k)\n",
        "5. Random seed and initialization\n",
        "\n",
        "\n",
        "Benefits:\n",
        "\n",
        "\n",
        "1. Reduced overfitting: Averaging across multiple splits helps mitigate overfitting to a specific validation set.\n",
        "2. Improved generalizability: Averaging captures model performance across diverse subsets of data.\n",
        "3. Better estimation: Reduces variability in validation accuracy, providing a more reliable estimate.\n",
        "\n",
        "\n",
        "Limitations:\n",
        "\n",
        "\n",
        "1. Increased computational cost\n",
        "2. Potential bias: If splits are not truly independent (e.g., due to data leakage)\n",
        "3. Limited improvement: For simple models or small datasets, averaging may not significantly improve accuracy estimation\n",
        "\n",
        "\n",
        "Comparison to test accuracy:\n",
        "\n",
        "\n",
        "1. Averaged validation accuracy can be a good proxy for test accuracy.\n",
        "2. However, test accuracy may still vary due to:\n",
        "    - Data distribution differences (training vs. testing)\n",
        "    - Model drift or concept shift\n",
        "\n",
        "\n",
        "Best practices:\n",
        "\n",
        "\n",
        "1. Use a sufficient number of splits (k=5-10).\n",
        "2. Employ stratified splitting for imbalanced datasets.\n",
        "3. Repeat MCCV multiple times.\n",
        "4. Monitor test accuracy and validation accuracy simultaneously.\n",
        "\n",
        "\n",
        "Theoretical foundations:\n",
        "\n",
        "\n",
        "1. Cross-validation theory (Stone, 1974)\n",
        "2. Bootstrap methods (Efron, 1979)\n",
        "3. Statistical learning theory (Vapnik, 1995)\n",
        "\n",
        "\n",
        "By understanding these factors and limitations, you can effectively use averaged validation accuracy to estimate test accuracy.\n",
        "\n",
        "\n",
        "Would you like me to elaborate on model evaluation or statistical learning theory?"
      ],
      "metadata": {
        "id": "rUkl4uMcc17u"
      }
    },
    {
      "cell_type": "markdown",
      "source": [
        "Answer3 The number of iterations significantly impacts the estimate's quality.\n",
        "\n",
        "\n",
        "Effects of increasing iterations:\n",
        "\n",
        "\n",
        "1. Reduced variability: More iterations decrease the estimate's standard deviation.\n",
        "2. Improved accuracy: Increased iterations reduce bias, leading to a more accurate estimate.\n",
        "3. Convergence: Estimates converge to the true value as iterations increase.\n",
        "\n",
        "\n",
        "However:\n",
        "\n",
        "\n",
        "1. Diminishing returns: Beyond a certain point, additional iterations yield marginal improvements.\n",
        "2. Computational cost: Higher iterations increase computational time and resources.\n",
        "\n",
        "\n",
        "Optimal iteration count:\n",
        "\n",
        "\n",
        "1. Depends on dataset size, model complexity, and desired precision.\n",
        "2. Typically ranges from 5-100 iterations (e.g., 5-fold CV repeated 5-20 times).\n",
        "\n",
        "\n",
        "Theoretical foundations:\n",
        "\n",
        "\n",
        "1. Law of Large Numbers (LLN): Averages converge to expected values as iterations increase.\n",
        "2. Central Limit Theorem (CLT): Distribution of estimates approaches normality with increased iterations.\n",
        "\n",
        "\n",
        "Practical guidelines:\n",
        "\n",
        "\n",
        "1. Start with a small number of iterations (e.g., 5) and increase as needed.\n",
        "2. Monitor convergence and variability.\n",
        "3. Balance computational resources and desired precision.\n",
        "\n",
        "\n",
        "Example (Python):\n",
        "\n",
        "\n",
        "```\n",
        "import numpy as np\n",
        "from sklearn.model_selection import KFold\n",
        "\n",
        "# Define dataset and model\n",
        "X, y = ..., ...\n",
        "\n",
        "# Vary iteration count\n",
        "iterations = [5, 10, 20, 50, 100]\n",
        "estimates = []\n",
        "\n",
        "for k in iterations:\n",
        "    kf = KFold(n_splits=k, shuffle=True, random_state=42)\n",
        "    accuracies = []\n",
        "    \n",
        "    for train_idx, val_idx in kf.split(X):\n",
        "        X_train, X_val = X[train_idx], X[val_idx]\n",
        "        y_train, y_val = y[train_idx], y[val_idx]\n",
        "        model.fit(X_train, y_train)\n",
        "        y_pred = model.predict(X_val)\n",
        "        accuracy = accuracy_score(y_val, y_pred)\n",
        "        accuracies.append(accuracy)\n",
        "    \n",
        "    estimate = np.mean(accuracies)\n",
        "    estimates.append(estimate)\n",
        "\n",
        "print(\"Estimates:\", estimates)\n",
        "```\n",
        "\n",
        "\n",
        "By understanding the impact of iterations, you can optimize your estimation process.\n",
        "\n",
        "\n",
        "Would you like me to elaborate on statistical theory or estimation techniques?"
      ],
      "metadata": {
        "id": "j6Wm0HfZdAKM"
      }
    },
    {
      "cell_type": "markdown",
      "source": [
        "Answer4Increasing iterations can help with small train or validation datasets, but there are limitations.\n",
        "\n",
        "\n",
        "Benefits:\n",
        "\n",
        "\n",
        "1. Reduced variability: More iterations decrease estimate variability.\n",
        "2. Improved accuracy: Increased iterations reduce bias.\n",
        "\n",
        "\n",
        "Limitations:\n",
        "\n",
        "\n",
        "1. Overfitting: Small datasets may lead to overfitting, regardless of iterations.\n",
        "2. Lack of generalizability: Limited data may not represent the population.\n",
        "\n",
        "\n",
        "When dealing with very small datasets:\n",
        "\n",
        "\n",
        "1. Data augmentation: Artificially increase dataset size.\n",
        "2. Transfer learning: Leverage pre-trained models.\n",
        "3. Regularization techniques: Prevent overfitting.\n",
        "4. Ensemble methods: Combine multiple models.\n",
        "\n",
        "\n",
        "Optimal iterations for small datasets:\n",
        "\n",
        "\n",
        "1. Depends on dataset size and model complexity.\n",
        "2. Typically ranges from 10-100 iterations.\n",
        "\n",
        "\n",
        "Example (Python):\n",
        "\n",
        "\n",
        "```\n",
        "from sklearn.model_selection import KFold\n",
        "from sklearn.linear_model import LogisticRegression\n",
        "\n",
        "# Small dataset\n",
        "X, y = ..., ...\n",
        "\n",
        "# Increase iterations\n",
        "kf = KFold(n_splits=10, shuffle=True, random_state=42)\n",
        "model = LogisticRegression()\n",
        "\n",
        "accuracies = []\n",
        "for train_idx, val_idx in kf.split(X):\n",
        "    X_train, X_val = X[train_idx], X[val_idx]\n",
        "    y_train, y_val = y[train_idx], y[val_idx]\n",
        "    model.fit(X_train, y_train)\n",
        "    y_pred = model.predict(X_val)\n",
        "    accuracy = accuracy_score(y_val, y_pred)\n",
        "    accuracies.append(accuracy)\n",
        "\n",
        "estimate = np.mean(accuracies)\n",
        "print(\"Estimate:\", estimate)\n",
        "```\n",
        "\n",
        "\n",
        "Theoretical foundations:\n",
        "\n",
        "\n",
        "1. Bias-Variance Tradeoff (BVT)\n",
        "2. Statistical learning theory (Vapnik, 1995)\n",
        "\n",
        "\n",
        "Best practices:\n",
        "\n",
        "\n",
        "1. Monitor overfitting and variability.\n",
        "2. Balance iterations and computational resources.\n",
        "3. Consider data augmentation and transfer learning.\n",
        "\n",
        "\n",
        "While increasing iterations can help, addressing the underlying data limitations is crucial.\n",
        "\n",
        "\n",
        "Would you like me to elaborate on data augmentation or transfer learning?"
      ],
      "metadata": {
        "id": "0xpcp98PdNm9"
      }
    }
  ],
  "metadata": {
    "colab": {
      "provenance": [],
      "include_colab_link": true
    },
    "kernelspec": {
      "display_name": "Python 3",
      "name": "python3"
    },
    "language_info": {
      "codemirror_mode": {
        "name": "ipython",
        "version": 3
      },
      "file_extension": ".py",
      "mimetype": "text/x-python",
      "name": "python",
      "nbconvert_exporter": "python",
      "pygments_lexer": "ipython3",
      "version": "3.10.10"
    }
  },
  "nbformat": 4,
  "nbformat_minor": 0
}